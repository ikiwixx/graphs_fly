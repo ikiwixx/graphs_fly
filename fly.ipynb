{
 "cells": [
  {
   "cell_type": "code",
   "execution_count": 1,
   "id": "initial_id",
   "metadata": {
    "collapsed": true,
    "ExecuteTime": {
     "end_time": "2024-05-25T09:53:05.330679Z",
     "start_time": "2024-05-25T09:53:04.958522Z"
    }
   },
   "outputs": [],
   "source": [
    "from pyspark.sql import SparkSession, DataFrame\n",
    "from pyspark.sql.functions import col\n",
    "from pyspark import SparkContext, SparkConf\n",
    "from graphframes import GraphFrame"
   ]
  },
  {
   "cell_type": "code",
   "execution_count": 2,
   "outputs": [],
   "source": [
    "# (1)统计航班飞行网图中机场的数量  \n",
    "# (2)统计航班飞行网图中航线的数量  \n",
    "# (3)计算最长的飞行航线（Point to Point）  \n",
    "# (4)找出最繁忙的机场  \n",
    "# (5)找出最重要的机场（PageRank）  "
   ],
   "metadata": {
    "collapsed": false,
    "ExecuteTime": {
     "end_time": "2024-05-25T09:53:05.407936Z",
     "start_time": "2024-05-25T09:53:05.400294Z"
    }
   },
   "id": "335b97bf77adb5d7"
  },
  {
   "cell_type": "code",
   "execution_count": 3,
   "outputs": [
    {
     "name": "stdout",
     "output_type": "stream",
     "text": [
      ":: loading settings :: url = jar:file:/Users/ikiwi/PycharmProjects/pythonProject/venv-3.11/lib/python3.11/site-packages/pyspark/jars/ivy-2.5.1.jar!/org/apache/ivy/core/settings/ivysettings.xml\n"
     ]
    },
    {
     "name": "stderr",
     "output_type": "stream",
     "text": [
      "Ivy Default Cache set to: /Users/ikiwi/.ivy2/cache\n",
      "The jars for the packages stored in: /Users/ikiwi/.ivy2/jars\n",
      "graphframes#graphframes added as a dependency\n",
      ":: resolving dependencies :: org.apache.spark#spark-submit-parent-503747e6-fa5a-4c79-8100-6c9f8a95a357;1.0\n",
      "\tconfs: [default]\n",
      "\tfound graphframes#graphframes;0.8.3-spark3.5-s_2.12 in spark-packages\n",
      "\tfound org.slf4j#slf4j-api;1.7.16 in central\n",
      ":: resolution report :: resolve 200ms :: artifacts dl 15ms\n",
      "\t:: modules in use:\n",
      "\tgraphframes#graphframes;0.8.3-spark3.5-s_2.12 from spark-packages in [default]\n",
      "\torg.slf4j#slf4j-api;1.7.16 from central in [default]\n",
      "\t---------------------------------------------------------------------\n",
      "\t|                  |            modules            ||   artifacts   |\n",
      "\t|       conf       | number| search|dwnlded|evicted|| number|dwnlded|\n",
      "\t---------------------------------------------------------------------\n",
      "\t|      default     |   2   |   0   |   0   |   0   ||   2   |   0   |\n",
      "\t---------------------------------------------------------------------\n",
      ":: retrieving :: org.apache.spark#spark-submit-parent-503747e6-fa5a-4c79-8100-6c9f8a95a357\n",
      "\tconfs: [default]\n",
      "\t0 artifacts copied, 2 already retrieved (0kB/6ms)\n",
      "24/05/25 17:53:09 WARN NativeCodeLoader: Unable to load native-hadoop library for your platform... using builtin-java classes where applicable\n",
      "Setting default log level to \"WARN\".\n",
      "To adjust logging level use sc.setLogLevel(newLevel). For SparkR, use setLogLevel(newLevel).\n",
      "24/05/25 17:53:11 WARN Utils: Service 'SparkUI' could not bind on port 4040. Attempting port 4041.\n"
     ]
    }
   ],
   "source": [
    "# 初始化配置\n",
    "spark_conf = SparkConf().setAppName('fly').setMaster('local[*]').set(\"spark.jars.packages\", \"graphframes:graphframes:0.8.3-spark3.5-s_2.12\")\n",
    "sc = SparkContext(conf=spark_conf)\n",
    "spark=SparkSession.builder.appName(\"graph\").getOrCreate()"
   ],
   "metadata": {
    "collapsed": false,
    "ExecuteTime": {
     "end_time": "2024-05-25T09:53:13.285033Z",
     "start_time": "2024-05-25T09:53:05.996435Z"
    }
   },
   "id": "2d048bdb489b31e"
  },
  {
   "cell_type": "code",
   "execution_count": 4,
   "outputs": [],
   "source": [
    "fly_csv_data_path = \"fly.csv\""
   ],
   "metadata": {
    "collapsed": false,
    "ExecuteTime": {
     "end_time": "2024-05-25T09:53:13.300999Z",
     "start_time": "2024-05-25T09:53:13.236259Z"
    }
   },
   "id": "22e5583bffae36db"
  },
  {
   "cell_type": "code",
   "execution_count": 5,
   "outputs": [
    {
     "name": "stderr",
     "output_type": "stream",
     "text": [
      "                                                                                \r"
     ]
    }
   ],
   "source": [
    "flyDataDF = (spark.read.format(\"csv\")\n",
    "            .option(\"header\", \"true\")\n",
    "            .load(fly_csv_data_path))"
   ],
   "metadata": {
    "collapsed": false,
    "ExecuteTime": {
     "end_time": "2024-05-25T09:53:20.562109Z",
     "start_time": "2024-05-25T09:53:13.256852Z"
    }
   },
   "id": "5cd4f160e39376cb"
  },
  {
   "cell_type": "code",
   "execution_count": 6,
   "outputs": [
    {
     "data": {
      "text/plain": "Row(日='1', 周='3', 航空公司='AA', 飞机注册号='N338AA', 航班号='1', 起飞机场编号='12478', 起飞机场='JFK', 到达机场编号='12892', 到达机场='LAX', 预计起飞时间（时分）='900', 起飞时间='914', 起飞延迟（分钟）='14', 到达预计时间='1225', 到达时间='1238', 到达延迟（分钟）='13', 预计飞行时间='385', 飞行距离='2475')"
     },
     "execution_count": 6,
     "metadata": {},
     "output_type": "execute_result"
    }
   ],
   "source": [
    "flyDataDF.first()"
   ],
   "metadata": {
    "collapsed": false,
    "ExecuteTime": {
     "end_time": "2024-05-25T09:53:21.099223Z",
     "start_time": "2024-05-25T09:53:20.514179Z"
    }
   },
   "id": "3e0bfbc5f7623bb4"
  },
  {
   "cell_type": "code",
   "execution_count": 8,
   "outputs": [],
   "source": [
    "# 航线\n",
    "linesDF = flyDataDF.select(\n",
    "    col(\"起飞机场编号\").cast(\"int\").alias(\"src\"),\n",
    "    col(\"到达机场编号\").cast(\"int\").alias(\"dst\"),\n",
    "    col(\"飞行距离\").cast(\"long\").alias(\"飞行距离\")\n",
    ").distinct()"
   ],
   "metadata": {
    "collapsed": false,
    "ExecuteTime": {
     "end_time": "2024-05-25T09:53:30.918833Z",
     "start_time": "2024-05-25T09:53:30.786809Z"
    }
   },
   "id": "1b61e173ecce339c"
  },
  {
   "cell_type": "code",
   "execution_count": 9,
   "outputs": [],
   "source": [
    "# 机场\n",
    "airPortInDF = flyDataDF.select(col(\"起飞机场编号\").cast(\"int\").alias(\"id\"))\n",
    "airPortOutDF = flyDataDF.select(col(\"到达机场编号\").cast(\"int\").alias(\"id\"))\n",
    "airPortDF = airPortInDF.union(airPortOutDF).distinct()"
   ],
   "metadata": {
    "collapsed": false,
    "ExecuteTime": {
     "end_time": "2024-05-25T09:53:31.799384Z",
     "start_time": "2024-05-25T09:53:31.690548Z"
    }
   },
   "id": "9e9f509e4c6234f7"
  },
  {
   "cell_type": "code",
   "execution_count": 10,
   "outputs": [
    {
     "data": {
      "text/plain": "GraphFrame(v:[id: int], e:[src: int, dst: int ... 1 more field])"
     },
     "execution_count": 10,
     "metadata": {},
     "output_type": "execute_result"
    }
   ],
   "source": [
    "graph = GraphFrame(airPortDF, linesDF)\n",
    "graph"
   ],
   "metadata": {
    "collapsed": false,
    "ExecuteTime": {
     "end_time": "2024-05-25T09:53:32.294Z",
     "start_time": "2024-05-25T09:53:32.180867Z"
    }
   },
   "id": "8d851ba104acb6c7"
  },
  {
   "cell_type": "code",
   "execution_count": 11,
   "outputs": [
    {
     "name": "stderr",
     "output_type": "stream",
     "text": [
      "                                                                                \r"
     ]
    },
    {
     "data": {
      "text/plain": "301"
     },
     "execution_count": 11,
     "metadata": {},
     "output_type": "execute_result"
    }
   ],
   "source": [
    "# 1) 机场数量\n",
    "airPortNum = graph.vertices.count()\n",
    "airPortNum"
   ],
   "metadata": {
    "collapsed": false,
    "ExecuteTime": {
     "end_time": "2024-05-25T09:53:38.961797Z",
     "start_time": "2024-05-25T09:53:32.752211Z"
    }
   },
   "id": "9bca72cf071c7282"
  },
  {
   "cell_type": "code",
   "execution_count": 12,
   "outputs": [
    {
     "name": "stderr",
     "output_type": "stream",
     "text": [
      "                                                                                \r"
     ]
    },
    {
     "data": {
      "text/plain": "4088"
     },
     "execution_count": 12,
     "metadata": {},
     "output_type": "execute_result"
    }
   ],
   "source": [
    "# 2) 航线数量\n",
    "linesNum = graph.edges.count()\n",
    "linesNum"
   ],
   "metadata": {
    "collapsed": false,
    "ExecuteTime": {
     "end_time": "2024-05-25T09:53:40.871164Z",
     "start_time": "2024-05-25T09:53:38.957985Z"
    }
   },
   "id": "c0b690e6a684b259"
  },
  {
   "cell_type": "code",
   "execution_count": 13,
   "outputs": [
    {
     "name": "stderr",
     "output_type": "stream",
     "text": [
      "                                                                                \r"
     ]
    },
    {
     "data": {
      "text/plain": "Row(src=12173, dst=12478, 飞行距离=4983)"
     },
     "execution_count": 13,
     "metadata": {},
     "output_type": "execute_result"
    }
   ],
   "source": [
    "# 3) 最长的飞行航线\n",
    "longestLine: DataFrame = graph.edges.sort(\"飞行距离\",)\n",
    "longestLineInform = longestLine.sort(\"飞行距离\", ascending=False).first()\n",
    "longestLineInform"
   ],
   "metadata": {
    "collapsed": false,
    "ExecuteTime": {
     "end_time": "2024-05-25T09:53:43.025245Z",
     "start_time": "2024-05-25T09:53:40.865653Z"
    }
   },
   "id": "2d7266fd5ca01c8c"
  },
  {
   "cell_type": "code",
   "execution_count": 14,
   "outputs": [
    {
     "name": "stderr",
     "output_type": "stream",
     "text": [
      "                                                                                \r"
     ]
    },
    {
     "data": {
      "text/plain": "Row(id=10397, degree=305)"
     },
     "execution_count": 14,
     "metadata": {},
     "output_type": "execute_result"
    }
   ],
   "source": [
    "# 4) 最繁忙的机场\n",
    "graphDegreesDF: DataFrame = graph.degrees\n",
    "maxGraphDegreeInform = graphDegreesDF.sort(\"degree\", ascending=False).first()\n",
    "maxGraphDegreeInform"
   ],
   "metadata": {
    "collapsed": false,
    "ExecuteTime": {
     "end_time": "2024-05-25T09:53:46.134659Z",
     "start_time": "2024-05-25T09:53:43.024635Z"
    }
   },
   "id": "d51103a2de288515"
  },
  {
   "cell_type": "code",
   "execution_count": 15,
   "outputs": [
    {
     "name": "stderr",
     "output_type": "stream",
     "text": [
      "24/05/25 17:53:51 WARN BlockManager: Block rdd_114_0 already exists on this machine; not re-adding it\n",
      "                                                                                \r"
     ]
    },
    {
     "data": {
      "text/plain": "Row(id=10397, pagerank=10.37214346638005)"
     },
     "execution_count": 15,
     "metadata": {},
     "output_type": "execute_result"
    }
   ],
   "source": [
    "# 5）找出最重要的机场\n",
    "pageRankGraph = graph.pageRank(0.05, tol=0.01)\n",
    "firstData = pageRankGraph.vertices.sort(\"pagerank\", ascending=False).first()\n",
    "firstData"
   ],
   "metadata": {
    "collapsed": false,
    "ExecuteTime": {
     "end_time": "2024-05-25T09:53:57.623368Z",
     "start_time": "2024-05-25T09:53:46.133779Z"
    }
   },
   "id": "7ee17cbc5b7d8730"
  },
  {
   "cell_type": "code",
   "execution_count": 16,
   "outputs": [
    {
     "name": "stdout",
     "output_type": "stream",
     "text": [
      "机场数量: 301\n",
      "航线数量: 4088\n",
      "最长的飞行航线:(12173 -> 12478: 4983)\n",
      "最繁忙的机场: (10397度数为305)\n",
      "最重要的机场: (10397, pagerank: 10.372143)\n"
     ]
    }
   ],
   "source": [
    "print(\"机场数量:\", airPortNum)\n",
    "print(\"航线数量:\", linesNum)\n",
    "print(\"最长的飞行航线:(%d -> %d: %d)\" % (longestLineInform[\"src\"], longestLineInform[\"dst\"], longestLineInform['飞行距离']))\n",
    "print(\"最繁忙的机场: (%d度数为%d)\" % (maxGraphDegreeInform[\"id\"], maxGraphDegreeInform[\"degree\"]))\n",
    "print(\"最重要的机场: (%d, pagerank: %f)\" % (firstData[\"id\"], firstData[\"pagerank\"]))"
   ],
   "metadata": {
    "collapsed": false,
    "ExecuteTime": {
     "end_time": "2024-05-25T09:53:57.625882Z",
     "start_time": "2024-05-25T09:53:57.621310Z"
    }
   },
   "id": "4f635d0bffc9806"
  },
  {
   "cell_type": "code",
   "execution_count": null,
   "outputs": [],
   "source": [],
   "metadata": {
    "collapsed": false
   },
   "id": "b5c8b4db97306724"
  },
  {
   "cell_type": "markdown",
   "source": [],
   "metadata": {
    "collapsed": false
   },
   "id": "24c10d609f10a23d"
  }
 ],
 "metadata": {
  "kernelspec": {
   "display_name": "Python 3",
   "language": "python",
   "name": "python3"
  },
  "language_info": {
   "codemirror_mode": {
    "name": "ipython",
    "version": 2
   },
   "file_extension": ".py",
   "mimetype": "text/x-python",
   "name": "python",
   "nbconvert_exporter": "python",
   "pygments_lexer": "ipython2",
   "version": "2.7.6"
  }
 },
 "nbformat": 4,
 "nbformat_minor": 5
}
